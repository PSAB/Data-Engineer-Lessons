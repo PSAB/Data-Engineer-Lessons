{
 "cells": [
  {
   "cell_type": "markdown",
   "metadata": {},
   "source": [
    "In this notebook I will walk through the basics of modeling data using Fact and Dimension tables. We will create both Fact and Dimension tables and show how this is a basic element of the Star Schema."
   ]
  },
  {
   "cell_type": "code",
   "execution_count": 4,
   "metadata": {},
   "outputs": [],
   "source": [
    "import psycopg2"
   ]
  },
  {
   "cell_type": "markdown",
   "metadata": {},
   "source": [
    "Create a connection to the cursor, and set autocommit=True"
   ]
  },
  {
   "cell_type": "code",
   "execution_count": 2,
   "metadata": {},
   "outputs": [],
   "source": [
    "try:\n",
    "    conn = psycopg2.connect(\"dbname=udacity\")\n",
    "except psycopg2.Error as e:\n",
    "    print(\"Error: Could not connect to database\")\n",
    "    print(e)"
   ]
  },
  {
   "cell_type": "code",
   "execution_count": 3,
   "metadata": {},
   "outputs": [],
   "source": [
    "try:\n",
    "    cur = conn.cursor()\n",
    "except psycopg2.Error as e:\n",
    "    print(\"Error: Could not get cursor to the database\")\n",
    "    print(e)\n",
    "conn.set_session(autocommit=True)"
   ]
  },
  {
   "cell_type": "markdown",
   "metadata": {},
   "source": [
    "### Let's imagine we work at an online Music Store. There will be many tables in our database but let's just focus on 4 tables around customer purchases."
   ]
  },
  {
   "cell_type": "markdown",
   "metadata": {},
   "source": [
    "Table Name (Fact Table): customer_transactions<br>\n",
    "column 0: Customer Id<br>\n",
    "column 1: Store Id<br>\n",
    "column 2: Spent<br>\n",
    "<br>\n",
    "Table Name: Customer<br>\n",
    "column 0: Customer Id<br>\n",
    "column 1: Name<br>\n",
    "column 2: Rewards<br>\n",
    "<br>\n",
    "Table Name: store<br>\n",
    "column 0: store Id<br>\n",
    "column 1: state<br>\n",
    "<br>\n",
    "Table Name: items_purchased<br>\n",
    "column 0: customer Id<br>\n",
    "column 1: item name<br>\n",
    "<br>"
   ]
  },
  {
   "cell_type": "markdown",
   "metadata": {},
   "source": [
    "![title](star_schema.png)"
   ]
  },
  {
   "cell_type": "markdown",
   "metadata": {},
   "source": [
    "#### From this representation, we can already start to see the makings of a \"STAR\". We have one fact table (the center of the star) and 3 dimension tables that are coming from it. "
   ]
  },
  {
   "cell_type": "markdown",
   "metadata": {},
   "source": [
    "Let's create the Fact Table and insert the data into the table"
   ]
  },
  {
   "cell_type": "code",
   "execution_count": 5,
   "metadata": {},
   "outputs": [],
   "source": [
    "try:\n",
    "    cur.execute(\"CREATE TABLE IF NOT EXISTS customer_transactions (customer_id int, store_id int, spent numeric);\")\n",
    "except psycopg2.Error as e:\n",
    "    print(\"Error: Issue creating table\")\n",
    "    print(e)"
   ]
  },
  {
   "cell_type": "code",
   "execution_count": 6,
   "metadata": {},
   "outputs": [],
   "source": [
    "try:\n",
    "    cur.execute(\"INSERT INTO customer_transactions (customer_id, store_id, spent) VALUES (%s, %s, %s)\", \\\n",
    "                (1, 1, 20.50))\n",
    "except psycopg2.Error as e:\n",
    "    print(\"Error: Inserting rows\")\n",
    "    print(e)\n",
    "    \n",
    "try:\n",
    "    cur.execute(\"INSERT INTO customer_transactions (customer_id, store_id, spent) VALUES (%s, %s, %s)\", \\\n",
    "                (2, 1, 35.21))\n",
    "except psycopg2.Error as e:\n",
    "    print(\"Error: Inserting rows\")\n",
    "    print(e)"
   ]
  },
  {
   "cell_type": "markdown",
   "metadata": {},
   "source": [
    "Now let's create our dimension tables and insert the data to those tables:"
   ]
  },
  {
   "cell_type": "code",
   "execution_count": 7,
   "metadata": {},
   "outputs": [],
   "source": [
    "try:\n",
    "    cur.execute(\"CREATE TABLE IF NOT EXISTS customer (customer_id int, name varchar, rewards boolean);\")\n",
    "except psycopg2.Error as e:\n",
    "    print(\"Error: Issue creating table\")\n",
    "    print(e)"
   ]
  },
  {
   "cell_type": "code",
   "execution_count": 8,
   "metadata": {},
   "outputs": [],
   "source": [
    "try:\n",
    "    cur.execute(\"INSERT INTO customer (customer_id, name, rewards) VALUES (%s, %s, %s)\", \\\n",
    "                (1, \"Amanda\", True))\n",
    "except psycopg2.Error as e:\n",
    "    print(\"Error: Inserting rows\")\n",
    "    print(e)\n",
    "    \n",
    "try:\n",
    "    cur.execute(\"INSERT INTO customer (customer_id, name, rewards) VALUES (%s, %s, %s)\", \\\n",
    "                (2, \"Toby\", False))\n",
    "except psycopg2.Error as e:\n",
    "    print(\"Error: Inserting rows\")\n",
    "    print(e)"
   ]
  },
  {
   "cell_type": "code",
   "execution_count": 9,
   "metadata": {},
   "outputs": [],
   "source": [
    "try:\n",
    "    cur.execute(\"CREATE TABLE IF NOT EXISTS store (store_id int, state varchar);\")\n",
    "except psycopg2.Error as e:\n",
    "    print(\"Error: Issue creating table\")\n",
    "    print(e)"
   ]
  },
  {
   "cell_type": "code",
   "execution_count": 10,
   "metadata": {},
   "outputs": [],
   "source": [
    "try:\n",
    "    cur.execute(\"INSERT INTO store (store_id, state) VALUES (%s, %s)\", \\\n",
    "                (1, \"CA\"))\n",
    "except psycopg2.Error as e:\n",
    "    print(\"Error: Inserting rows\")\n",
    "    print(e)\n",
    "    \n",
    "try:\n",
    "    cur.execute(\"INSERT INTO store (store_id, state) VALUES (%s, %s)\", \\\n",
    "                (2, \"WA\"))\n",
    "except psycopg2.Error as e:\n",
    "    print(\"Error: Inserting rows\")\n",
    "    print(e)"
   ]
  },
  {
   "cell_type": "code",
   "execution_count": 11,
   "metadata": {},
   "outputs": [],
   "source": [
    "try:\n",
    "    cur.execute(\"CREATE TABLE IF NOT EXISTS items_purchased (customer_id int, item_number int, item_name varchar);\")\n",
    "except psycopg2.Error as e:\n",
    "    print(\"Error: Issue creating table\")\n",
    "    print(e)"
   ]
  },
  {
   "cell_type": "code",
   "execution_count": 13,
   "metadata": {},
   "outputs": [],
   "source": [
    "try:\n",
    "    cur.execute(\"INSERT INTO items_purchased (customer_id, item_number, item_name) VALUES (%s, %s, %s)\", \\\n",
    "                (1, 1, \"Rubber Soul\"))\n",
    "except psycopg2.Error as e:\n",
    "    print(\"Error: Inserting rows\")\n",
    "    print(e)\n",
    "    \n",
    "try:\n",
    "    cur.execute(\"INSERT INTO items_purchased (customer_id, item_number, item_name) VALUES (%s, %s, %s)\", \\\n",
    "                (2, 3, \"Let It Be\"))\n",
    "except psycopg2.Error as e:\n",
    "    print(\"Error: Inserting rows\")\n",
    "    print(e)"
   ]
  },
  {
   "cell_type": "markdown",
   "metadata": {},
   "source": [
    "We can do a variety of queries on this data easily because of utilizing the fact/dimension and Star Schema"
   ]
  },
  {
   "cell_type": "markdown",
   "metadata": {},
   "source": [
    "- Query 1: Find all the customers that spent more than 30 dollars, who are they, what did they buy and if they are a rewards member\n",
    "- Query 2: How much did Store 1 sell"
   ]
  },
  {
   "cell_type": "markdown",
   "metadata": {},
   "source": [
    "Query 1: Find all the customers that spent more than 30 dollars, who are they, what did they buy and if they are a rewards member"
   ]
  },
  {
   "cell_type": "markdown",
   "metadata": {},
   "source": [
    "![title](star_schema.png)"
   ]
  },
  {
   "cell_type": "code",
   "execution_count": 18,
   "metadata": {},
   "outputs": [
    {
     "name": "stdout",
     "output_type": "stream",
     "text": [
      "('Toby', 'Let It Be', False)\n"
     ]
    }
   ],
   "source": [
    "try:\n",
    "    cur.execute(\"SELECT name, item_name, rewards FROM ((customer \\\n",
    "                JOIN customer_transactions ON customer.customer_id = customer_transactions.customer_id) \\\n",
    "                JOIN items_purchased ON \\\n",
    "                customer_transactions.customer_id = items_purchased.customer_id) \\\n",
    "                WHERE spent > 30\")\n",
    "    \n",
    "except psycopg2.Error as e:\n",
    "    print(\"Error: select *\")\n",
    "    print(e)\n",
    "    \n",
    "row = cur.fetchone()\n",
    "while row:\n",
    "    print(row)\n",
    "    row = cur.fetchone()"
   ]
  },
  {
   "cell_type": "markdown",
   "metadata": {},
   "source": [
    "Query 2: How much did Store 1 sell"
   ]
  },
  {
   "cell_type": "code",
   "execution_count": 17,
   "metadata": {},
   "outputs": [
    {
     "name": "stdout",
     "output_type": "stream",
     "text": [
      "(1, Decimal('55.71'))\n"
     ]
    }
   ],
   "source": [
    "try:\n",
    "    cur.execute(\"SELECT store_id, SUM(spent) FROM customer_transactions GROUP BY store_id\")\n",
    "    \n",
    "except psycopg2.Error as e:\n",
    "    print(\"Error: select *\")\n",
    "    print(e)\n",
    "    \n",
    "row = cur.fetchone()\n",
    "while row:\n",
    "    print(row)\n",
    "    row = cur.fetchone()"
   ]
  },
  {
   "cell_type": "markdown",
   "metadata": {},
   "source": [
    "### Summary: What we can see here is this elegant schema that we were able to get \"facts/metrics\" from our fact table (how much each store sold), and also information about our customers that will allow us to do more in-depth analytics to get answers to business questions by utilizing our fact and dimension tables."
   ]
  },
  {
   "cell_type": "code",
   "execution_count": 19,
   "metadata": {},
   "outputs": [],
   "source": [
    "# Close cursor and connection:\n",
    "cur.close()\n",
    "conn.close()"
   ]
  },
  {
   "cell_type": "code",
   "execution_count": null,
   "metadata": {},
   "outputs": [],
   "source": []
  }
 ],
 "metadata": {
  "kernelspec": {
   "display_name": "Python 3",
   "language": "python",
   "name": "python3"
  },
  "language_info": {
   "codemirror_mode": {
    "name": "ipython",
    "version": 3
   },
   "file_extension": ".py",
   "mimetype": "text/x-python",
   "name": "python",
   "nbconvert_exporter": "python",
   "pygments_lexer": "ipython3",
   "version": "3.9.1"
  }
 },
 "nbformat": 4,
 "nbformat_minor": 4
}
